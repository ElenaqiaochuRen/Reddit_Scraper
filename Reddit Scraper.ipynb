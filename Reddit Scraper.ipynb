{
 "cells": [
  {
   "cell_type": "code",
   "execution_count": 92,
   "metadata": {},
   "outputs": [],
   "source": [
    "import praw\n",
    "import pandas as pd\n",
    "import datetime as dt\n",
    "\n",
    "import sqlite3\n",
    "import sqlalchemy as db\n",
    "from sqlalchemy import create_engine"
   ]
  },
  {
   "cell_type": "markdown",
   "metadata": {},
   "source": [
    "### Defining major functions for scrapping Reddit"
   ]
  },
  {
   "cell_type": "code",
   "execution_count": 104,
   "metadata": {},
   "outputs": [],
   "source": [
    "def get_reddit(client_id,client_secret,user_agent):\n",
    "    reddit = praw.Reddit(client_id=client_id,client_secret = client_secret,user_agent=user_agent)\n",
    "    return reddit"
   ]
  },
  {
   "cell_type": "code",
   "execution_count": 106,
   "metadata": {},
   "outputs": [],
   "source": [
    "def get_posts_result(reddit,keyword,len_of_result):\n",
    "    posts = []\n",
    "    ml_subreddit = reddit.subreddit(keyword)\n",
    "    for post in ml_subreddit.new():\n",
    "        if not (post.is_self & len(posts)==len_of_result):\n",
    "            posts.append([post.id, post.subreddit, post.title, post.selftext, post.url, dt.datetime.now(),post.author,post.created_utc,post.comments])\n",
    "    posts_df=pd.DataFrame(posts,columns=['post_id','subreddit_name','post_title','post_body','visual_content_url','scrap_time','post_author','post_publish_date','post_comments'])\n",
    "    return posts_df"
   ]
  },
  {
   "cell_type": "code",
   "execution_count": 109,
   "metadata": {},
   "outputs": [],
   "source": [
    "def transform_posts_results(posts_df):\n",
    "    posts_df['post_publish_date'] = pd.to_datetime(posts_df['post_publish_date'],unit='s').dt.strftime('%Y-%m-%d %H:%M:%S')\n",
    "    col_name= [\"post_id\",\"subreddit_name\",'post_title','post_body','visual_content_url','post_author','post_comments']\n",
    "    posts_df[col_name] = posts_df[col_name].astype(str)\n",
    "    return posts_df"
   ]
  },
  {
   "cell_type": "markdown",
   "metadata": {},
   "source": [
    "### Execution"
   ]
  },
  {
   "cell_type": "code",
   "execution_count": 102,
   "metadata": {},
   "outputs": [],
   "source": [
    "# Setting up the reddit authentication information\n",
    "client_id=\"rKCfOb1SzwpPQQ\"\n",
    "client_secret = 'Ktrwjri1ugder7wWFRuDwPjitll5Zg'\n",
    "user_agent='FixFake_Scraper'"
   ]
  },
  {
   "cell_type": "code",
   "execution_count": 105,
   "metadata": {},
   "outputs": [],
   "source": [
    "reddit = get_reddit(client_id,client_secret,user_agent)"
   ]
  },
  {
   "cell_type": "code",
   "execution_count": 107,
   "metadata": {},
   "outputs": [],
   "source": [
    "# Getting the scrap result dataframe\n",
    "posts_df = get_posts_result(reddit,'Shoes',100)"
   ]
  },
  {
   "cell_type": "code",
   "execution_count": 110,
   "metadata": {},
   "outputs": [],
   "source": [
    "# Transforming the dataframe\n",
    "posts_df = transform_posts_results(posts_df)"
   ]
  },
  {
   "cell_type": "code",
   "execution_count": 112,
   "metadata": {},
   "outputs": [
    {
     "name": "stdout",
     "output_type": "stream",
     "text": [
      "2020-12-19 21:57:59,131 INFO sqlalchemy.engine.base.Engine SELECT CAST('test plain returns' AS VARCHAR(60)) AS anon_1\n",
      "2020-12-19 21:57:59,133 INFO sqlalchemy.engine.base.Engine ()\n",
      "2020-12-19 21:57:59,138 INFO sqlalchemy.engine.base.Engine SELECT CAST('test unicode returns' AS VARCHAR(60)) AS anon_1\n",
      "2020-12-19 21:57:59,140 INFO sqlalchemy.engine.base.Engine ()\n"
     ]
    }
   ],
   "source": [
    "# Exporting dataframe to database\n",
    "engine = create_engine('sqlite:///reddit_shoes.db',echo=True)\n",
    "sqlite_connection = engine.connect()\n",
    "sqlite_table=\"reddit_shoes\"\n",
    "posts_df.to_sql(sqlite_table,sqlite_connection,if_exists='replace')"
   ]
  },
  {
   "cell_type": "code",
   "execution_count": 115,
   "metadata": {},
   "outputs": [
    {
     "name": "stdout",
     "output_type": "stream",
     "text": [
      "<class 'pandas.core.frame.DataFrame'>\n",
      "RangeIndex: 100 entries, 0 to 99\n",
      "Data columns (total 10 columns):\n",
      "index                 100 non-null int64\n",
      "post_id               100 non-null object\n",
      "subreddit_name        100 non-null object\n",
      "post_title            100 non-null object\n",
      "post_body             100 non-null object\n",
      "visual_content_url    100 non-null object\n",
      "scrap_time            100 non-null datetime64[ns]\n",
      "post_author           100 non-null object\n",
      "post_publish_date     100 non-null object\n",
      "post_comments         100 non-null object\n",
      "dtypes: datetime64[ns](1), int64(1), object(8)\n",
      "memory usage: 7.9+ KB\n",
      "None\n"
     ]
    }
   ],
   "source": [
    "# View the database info \n",
    "table_df = pd.read_sql_table(\"reddit_shoes\",con=engine)\n",
    "print(table_df.info())"
   ]
  },
  {
   "cell_type": "markdown",
   "metadata": {},
   "source": [
    "### Below is the profile results"
   ]
  },
  {
   "cell_type": "code",
   "execution_count": 91,
   "metadata": {},
   "outputs": [],
   "source": [
    "import cProfile"
   ]
  },
  {
   "cell_type": "code",
   "execution_count": 117,
   "metadata": {},
   "outputs": [
    {
     "name": "stdout",
     "output_type": "stream",
     "text": [
      "         228 function calls in 0.044 seconds\n",
      "\n",
      "   Ordered by: standard name\n",
      "\n",
      "   ncalls  tottime  percall  cumtime  percall filename:lineno(function)\n",
      "        1    0.000    0.000    0.039    0.039 <ipython-input-104-ff6253f4c502>:1(get_reddit)\n",
      "        1    0.000    0.000    0.039    0.039 <string>:1(<module>)\n",
      "        2    0.001    0.001    0.001    0.001 _collections.py:44(__init__)\n",
      "        6    0.000    0.000    0.000    0.000 _collections_abc.py:657(get)\n",
      "        1    0.000    0.000    0.000    0.000 _collections_abc.py:824(update)\n",
      "        1    0.000    0.000    0.000    0.000 abc.py:137(__instancecheck__)\n",
      "        2    0.000    0.000    0.003    0.001 adapters.py:113(__init__)\n",
      "        2    0.000    0.000    0.002    0.001 adapters.py:146(init_poolmanager)\n",
      "        2    0.000    0.000    0.000    0.000 adapters.py:58(__init__)\n",
      "        1    0.000    0.000    0.000    0.000 auth.py:102(__init__)\n",
      "        1    0.000    0.000    0.000    0.000 auth.py:12(__init__)\n",
      "        1    0.000    0.000    0.000    0.000 auth.py:133(__init__)\n",
      "        1    0.000    0.000    0.000    0.000 auth.py:143(_clear_access_token)\n",
      "        1    0.000    0.000    0.000    0.000 auth.py:168(_validate_authenticator)\n",
      "        1    0.000    0.000    0.000    0.000 auth.py:202(__init__)\n",
      "        9    0.000    0.000    0.000    0.000 base.py:36(__init__)\n",
      "        1    0.000    0.000    0.000    0.000 config.py:108(_initialize_attributes)\n",
      "        1    0.000    0.000    0.000    0.000 config.py:113(<dictcomp>)\n",
      "        2    0.000    0.000    0.000    0.000 config.py:12(__bool__)\n",
      "        1    0.000    0.000    0.000    0.000 config.py:32(_config_boolean)\n",
      "        1    0.000    0.000    0.001    0.001 config.py:68(__init__)\n",
      "       15    0.000    0.000    0.000    0.000 config.py:88(_fetch)\n",
      "        6    0.000    0.000    0.000    0.000 config.py:93(_fetch_default)\n",
      "        8    0.000    0.000    0.000    0.000 config.py:98(_fetch_or_not_set)\n",
      "       12    0.000    0.000    0.000    0.000 configparser.py:362(before_get)\n",
      "        1    0.000    0.000    0.000    0.000 configparser.py:830(items)\n",
      "       12    0.000    0.000    0.000    0.000 configparser.py:853(<lambda>)\n",
      "        1    0.000    0.000    0.000    0.000 configparser.py:857(<listcomp>)\n",
      "        1    0.000    0.000    0.000    0.000 cookiejar.py:1210(vals_sorted_by_key)\n",
      "        1    0.000    0.000    0.000    0.000 cookiejar.py:1214(deepvalues)\n",
      "        1    0.000    0.000    0.000    0.000 cookiejar.py:1249(__init__)\n",
      "        1    0.000    0.000    0.000    0.000 cookiejar.py:1742(__iter__)\n",
      "        1    0.000    0.000    0.000    0.000 cookiejar.py:870(__init__)\n",
      "        1    0.000    0.000    0.001    0.001 cookies.py:508(cookiejar_from_dict)\n",
      "        1    0.000    0.000    0.000    0.000 cookies.py:521(<listcomp>)\n",
      "        1    0.000    0.000    0.000    0.000 front.py:16(__init__)\n",
      "        1    0.000    0.000    0.000    0.000 hooks.py:17(default_hooks)\n",
      "        1    0.000    0.000    0.000    0.000 hooks.py:18(<dictcomp>)\n",
      "        1    0.000    0.000    0.000    0.000 objector.py:49(__init__)\n",
      "        6    0.000    0.000    0.000    0.000 os.py:673(__getitem__)\n",
      "        6    0.000    0.000    0.000    0.000 os.py:751(encode)\n",
      "        6    0.000    0.000    0.000    0.000 os.py:769(getenv)\n",
      "        2    0.000    0.000    0.002    0.001 poolmanager.py:152(__init__)\n",
      "        1    0.000    0.000    0.000    0.000 rate_limit.py:15(__init__)\n",
      "        1    0.001    0.001    0.039    0.039 reddit.py:130(__init__)\n",
      "        1    0.000    0.000    0.000    0.000 reddit.py:362(_check_for_update)\n",
      "        1    0.001    0.001    0.001    0.001 reddit.py:369(_prepare_objector)\n",
      "        1    0.000    0.000    0.035    0.035 reddit.py:410(_prepare_prawcore)\n",
      "        1    0.000    0.000    0.001    0.001 reddit.py:426(_prepare_trusted_prawcore)\n",
      "        2    0.000    0.000    0.000    0.000 request.py:41(__init__)\n",
      "        1    0.029    0.029    0.034    0.034 requestor.py:16(__init__)\n",
      "        2    0.000    0.000    0.000    0.000 retry.py:159(__init__)\n",
      "        1    0.000    0.000    0.000    0.000 sessions.py:120(__init__)\n",
      "        1    0.000    0.000    0.000    0.000 sessions.py:343(session)\n",
      "        1    0.001    0.001    0.005    0.005 sessions.py:365(__init__)\n",
      "        2    0.000    0.000    0.000    0.000 sessions.py:738(mount)\n",
      "        2    0.000    0.000    0.000    0.000 sessions.py:744(<listcomp>)\n",
      "        1    0.000    0.000    0.000    0.000 structures.py:40(__init__)\n",
      "        5    0.000    0.000    0.000    0.000 structures.py:46(__setitem__)\n",
      "        1    0.000    0.000    0.000    0.000 subreddit.py:67(__init__)\n",
      "        3    0.000    0.000    0.000    0.000 threading.py:75(RLock)\n",
      "        1    0.000    0.000    0.000    0.000 user.py:52(__init__)\n",
      "        1    0.000    0.000    0.000    0.000 utils.py:793(default_user_agent)\n",
      "        1    0.000    0.000    0.001    0.001 utils.py:802(default_headers)\n",
      "        1    0.000    0.000    0.000    0.000 {built-in method _abc._abc_instancecheck}\n",
      "        1    0.005    0.005    0.044    0.044 {built-in method builtins.exec}\n",
      "        4    0.000    0.000    0.000    0.000 {built-in method builtins.getattr}\n",
      "       10    0.000    0.000    0.000    0.000 {built-in method builtins.isinstance}\n",
      "        8    0.000    0.000    0.000    0.000 {built-in method builtins.len}\n",
      "       13    0.000    0.000    0.000    0.000 {built-in method builtins.setattr}\n",
      "        1    0.000    0.000    0.000    0.000 {built-in method builtins.sorted}\n",
      "        1    0.000    0.000    0.000    0.000 {method 'copy' of 'collections.OrderedDict' objects}\n",
      "        2    0.000    0.000    0.000    0.000 {method 'copy' of 'dict' objects}\n",
      "        1    0.000    0.000    0.000    0.000 {method 'disable' of '_lsprof.Profiler' objects}\n",
      "        6    0.000    0.000    0.000    0.000 {method 'encode' of 'str' objects}\n",
      "       13    0.000    0.000    0.000    0.000 {method 'format' of 'str' objects}\n",
      "        2    0.000    0.000    0.000    0.000 {method 'items' of 'dict' objects}\n",
      "        1    0.000    0.000    0.000    0.000 {method 'join' of 'str' objects}\n",
      "        1    0.000    0.000    0.000    0.000 {method 'keys' of 'collections.OrderedDict' objects}\n",
      "        1    0.000    0.000    0.000    0.000 {method 'keys' of 'dict' objects}\n",
      "        6    0.000    0.000    0.000    0.000 {method 'lower' of 'str' objects}\n",
      "\n",
      "\n"
     ]
    }
   ],
   "source": [
    "cProfile.run(\"reddit = get_reddit(client_id,client_secret,user_agent)\")"
   ]
  },
  {
   "cell_type": "code",
   "execution_count": 116,
   "metadata": {},
   "outputs": [],
   "source": [
    "!pip freeze > requirements.txt"
   ]
  },
  {
   "cell_type": "code",
   "execution_count": null,
   "metadata": {},
   "outputs": [],
   "source": []
  }
 ],
 "metadata": {
  "kernelspec": {
   "display_name": "Python 3",
   "language": "python",
   "name": "python3"
  },
  "language_info": {
   "codemirror_mode": {
    "name": "ipython",
    "version": 3
   },
   "file_extension": ".py",
   "mimetype": "text/x-python",
   "name": "python",
   "nbconvert_exporter": "python",
   "pygments_lexer": "ipython3",
   "version": "3.7.3"
  }
 },
 "nbformat": 4,
 "nbformat_minor": 2
}
